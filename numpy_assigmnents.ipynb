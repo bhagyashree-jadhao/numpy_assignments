{
  "cells": [
    {
      "cell_type": "markdown",
      "metadata": {
        "id": "view-in-github",
        "colab_type": "text"
      },
      "source": [
        "<a href=\"https://colab.research.google.com/github/bhagyashree-jadhao/numpy_assignments/blob/main/numpy_assigmnents.ipynb\" target=\"_parent\"><img src=\"https://colab.research.google.com/assets/colab-badge.svg\" alt=\"Open In Colab\"/></a>"
      ]
    },
    {
      "cell_type": "code",
      "execution_count": null,
      "id": "f8df6779-e2a0-4ef9-adb2-a86cef772565",
      "metadata": {
        "id": "f8df6779-e2a0-4ef9-adb2-a86cef772565",
        "outputId": "f513f018-87f6-4a88-b972-207abac264e2"
      },
      "outputs": [
        {
          "name": "stdout",
          "output_type": "stream",
          "text": [
            "Defaulting to user installation because normal site-packages is not writeable\n",
            "Requirement already satisfied: pandas in c:\\programdata\\anaconda3\\lib\\site-packages (2.1.4)\n",
            "Requirement already satisfied: numpy<2,>=1.23.2 in c:\\programdata\\anaconda3\\lib\\site-packages (from pandas) (1.26.4)\n",
            "Requirement already satisfied: python-dateutil>=2.8.2 in c:\\programdata\\anaconda3\\lib\\site-packages (from pandas) (2.8.2)\n",
            "Requirement already satisfied: pytz>=2020.1 in c:\\programdata\\anaconda3\\lib\\site-packages (from pandas) (2023.3.post1)\n",
            "Requirement already satisfied: tzdata>=2022.1 in c:\\programdata\\anaconda3\\lib\\site-packages (from pandas) (2023.3)\n",
            "Requirement already satisfied: six>=1.5 in c:\\programdata\\anaconda3\\lib\\site-packages (from python-dateutil>=2.8.2->pandas) (1.16.0)\n"
          ]
        }
      ],
      "source": [
        "! pip install pandas"
      ]
    },
    {
      "cell_type": "markdown",
      "id": "731ae3a9-1c6d-412b-9ddb-63e9332a3a66",
      "metadata": {
        "id": "731ae3a9-1c6d-412b-9ddb-63e9332a3a66"
      },
      "source": [
        "# Theoretical Questions:"
      ]
    },
    {
      "cell_type": "markdown",
      "id": "def8ff64-fbfe-413e-b7cc-5153753e768f",
      "metadata": {
        "id": "def8ff64-fbfe-413e-b7cc-5153753e768f"
      },
      "source": [
        "## 1). Explain the purpose and advantages of NumPy in scientific computing and data analysis. How does it enhance Python's capabilities for numerical operations?\n"
      ]
    },
    {
      "cell_type": "markdown",
      "id": "7r1UrrgJ9Lmg",
      "metadata": {
        "id": "7r1UrrgJ9Lmg"
      },
      "source": [
        "### ans:- Numpy is a  Numerical Python, is a foundational package for scientific computing and data analysis in Python. It provides support for large, multi-dimensional arrays and matrices, along with a vast collection of mathematical functions to operate on these arrays.\n",
        "### Purpose of NumPy :-\n",
        "**Efficient Numerical Computation**: NumPy is designed to handle large arrays and matrices of numerical data efficiently. It provides a high-performance, easy-to-use multidimensional array object.\n",
        "\n",
        "**Mathematical Operations**: It offers a vast collection of mathematical functions to perform operations on arrays, including statistical, algebraic, and trigonometric operations.\n",
        "\n",
        "**Interoperability**: NumPy arrays are the standard for exchanging data between different libraries for data analysis, such as Pandas, SciPy, and Matplotlib, ensuring seamless integration and interoperability.\n",
        "\n",
        "**Data Analysis Foundation**: It forms the backbone of many higher-level data analysis libraries like Pandas, which rely on NumPy arrays for efficient data manipulation.\n",
        "## Advantages\n",
        "Performance:\n",
        "\n",
        "**Speed:** NumPy is implemented in C, making array operations significantly faster than those performed using native Python lists.\n",
        "**Memory Efficiency:** NumPy arrays use contiguous blocks of memory and have a fixed type, leading to more efficient memory usage compared to Python lists.\n",
        "Convenience:\n",
        "\n",
        "**Array Operations:** NumPy simplifies many operations through vectorization, which allows operations to be applied element-wise without explicit loops.\n",
        "Broadcasting: This feature enables arithmetic operations on arrays of different shapes, expanding smaller arrays to larger ones in a flexible manner.\n",
        "Rich Functions: NumPy includes a wide range of functions for mathematical operations, random sampling, sorting, and more.\n",
        "Functionality:\n",
        "\n",
        "**Multi-Dimensional Arrays**: NumPy supports multi-dimensional arrays, which are essential for complex data analysis and scientific computing.\n",
        "**Linear Algebra and FFT**: It provides comprehensive support for linear algebra operations and Fast Fourier Transform (FFT), crucial for many scientific applications.\n",
        "Data Manipulation: Features like slicing, indexing, reshaping, and stacking make it easy to manipulate data arrays in various ways.\n",
        "\n",
        "**Extensive Documentation**: NumPy has thorough documentation and a large, active community that contributes to its development and provides support.\n",
        "Integration with Other Libraries: NumPy integrates seamlessly with other scientific computing libraries such as SciPy (for advanced mathematical functions), Matplotlib (for plotting), and Pandas (for data manipulation), creating a powerful ecosystem for scientific computing and data analysis.\n",
        "Enhancements to Python's Capabilities\n",
        "**Numerical Operations:** NumPy enhances Python's numerical capabilities by providing a robust array object that supports fast and efficient operations, which are otherwise slow and cumbersome with native Python lists.\n",
        "**Multi-Dimensional Data Handling**: It allows for the handling of multi-dimensional data, which is essential for scientific and engineering applications.\n",
        "**Broad Scientific Tools**: By offering tools for linear algebra, random sampling, and more, NumPy extends Python's utility in scientific computing.\n",
        "\n",
        " NumPy's efficient array handling, rich mathematical functions, and interoperability with other libraries make it indispensable for scientific computing and data analysis. It significantly enhances Python's capabilities by providing performance, convenience, and a strong foundation for more advanced data manipulation and analysis tasks.\n",
        "\n",
        "\n",
        "\n",
        "\n",
        "\n",
        "\n",
        "\n"
      ]
    },
    {
      "cell_type": "markdown",
      "id": "tS8tZJLXARR6",
      "metadata": {
        "id": "tS8tZJLXARR6"
      },
      "source": []
    },
    {
      "cell_type": "markdown",
      "id": "WsIkWepUA8Em",
      "metadata": {
        "id": "WsIkWepUA8Em"
      },
      "source": [
        "### 2). Compare and contrast np.mean() and np.average() functions in NumPy. When would you use one over the other?"
      ]
    },
    {
      "cell_type": "code",
      "execution_count": null,
      "id": "ee8b6fdf-f50b-4e97-ad87-46fe8f5579e9",
      "metadata": {
        "id": "ee8b6fdf-f50b-4e97-ad87-46fe8f5579e9"
      },
      "outputs": [],
      "source": [
        "# 2. Compare and contrast np.mean() and np.average() functions in NumPy. When would you use one over the other?"
      ]
    },
    {
      "cell_type": "markdown",
      "id": "tT1Z1FWOBook",
      "metadata": {
        "id": "tT1Z1FWOBook"
      },
      "source": [
        "## ans\n",
        "**np.mean()**\n",
        "Purpose: Computes the arithmetic mean (average) of array elements.\n",
        "Syntax: np.mean(a, axis=None, dtype=None, out=None, keepdims=<no value>)\n",
        "Usage: Use this function when you need the simple arithmetic mean of an array.\n",
        "**np.average()**\n",
        "Purpose: Computes the weighted average of array elements if weights are provided; otherwise, it computes the arithmetic mean.\n",
        "Syntax: np.average(a, axis=None, weights=None, returned=False)\n",
        "Usage: Use this function when you need to compute a weighted average.\n",
        "lets see example"
      ]
    },
    {
      "cell_type": "code",
      "execution_count": null,
      "id": "HfXhSZ4dCB_l",
      "metadata": {
        "colab": {
          "base_uri": "https://localhost:8080/"
        },
        "id": "HfXhSZ4dCB_l",
        "outputId": "a153679b-4b94-4e39-cc18-16fd9e8f5add"
      },
      "outputs": [
        {
          "name": "stdout",
          "output_type": "stream",
          "text": [
            "3.0\n"
          ]
        }
      ],
      "source": [
        "import numpy as np\n",
        "data = np.array([1, 2, 3, 4, 5])\n",
        "mean_value = np.mean(data)\n",
        "print(mean_value)\n"
      ]
    },
    {
      "cell_type": "code",
      "execution_count": null,
      "id": "5-HGJhw1CNaw",
      "metadata": {
        "colab": {
          "base_uri": "https://localhost:8080/"
        },
        "id": "5-HGJhw1CNaw",
        "outputId": "8ffa3785-955e-4ced-fb79-def2e75b729f"
      },
      "outputs": [
        {
          "name": "stdout",
          "output_type": "stream",
          "text": [
            "3.6666666666666665\n"
          ]
        }
      ],
      "source": [
        "\n",
        "data = np.array([1, 2, 3, 4, 5])\n",
        "weights = np.array([0.1, 0.2, 0.3, 0.4, 0.5])\n",
        "weighted_avg = np.average(data, weights=weights)\n",
        "print(weighted_avg)\n"
      ]
    },
    {
      "cell_type": "markdown",
      "id": "MZvNxOL3BWjx",
      "metadata": {
        "id": "MZvNxOL3BWjx"
      },
      "source": [
        "### 3) . Describe the methods for reversing a NumPy array along different axes. Provide examples for 1D and 2D arrays.\n"
      ]
    },
    {
      "cell_type": "markdown",
      "id": "ajLyVsy7FV2m",
      "metadata": {
        "id": "ajLyVsy7FV2m"
      },
      "source": [
        "## ans\n",
        "\n",
        "Reversing a NumPy array along different axes can be achieved using slicing and specific NumPy functions. Here are the methods for reversing arrays and examples for both 1D and 2D arrays."
      ]
    },
    {
      "cell_type": "code",
      "execution_count": null,
      "id": "Zm-dUSX4Faf6",
      "metadata": {
        "colab": {
          "base_uri": "https://localhost:8080/"
        },
        "id": "Zm-dUSX4Faf6",
        "outputId": "f899d030-79f3-45d4-e421-6fbab55541e8"
      },
      "outputs": [
        {
          "data": {
            "text/plain": [
              "array([5, 4, 3, 2, 1])"
            ]
          },
          "execution_count": 3,
          "metadata": {},
          "output_type": "execute_result"
        }
      ],
      "source": [
        "#Reversing a 1D Array\n",
        "#To reverse a 1D array, you can use slicing with a step of -1.\n",
        "\n",
        "arr = np.array([1, 2, 3, 4, 5])\n",
        "reversed_arr = arr[::-1]\n",
        "reversed_arr\n"
      ]
    },
    {
      "cell_type": "code",
      "execution_count": null,
      "id": "2OR0Se4LF8Ml",
      "metadata": {
        "colab": {
          "base_uri": "https://localhost:8080/"
        },
        "id": "2OR0Se4LF8Ml",
        "outputId": "e3ff0fdd-8ca9-4257-a44c-bb63a20e28e2"
      },
      "outputs": [
        {
          "name": "stdout",
          "output_type": "stream",
          "text": [
            "Original 2D Array:\n",
            "[[1 2 3]\n",
            " [4 5 6]\n",
            " [7 8 9]]\n",
            "Reversed 2D Array along Axis 0:\n",
            "[[7 8 9]\n",
            " [4 5 6]\n",
            " [1 2 3]]\n"
          ]
        }
      ],
      "source": [
        "# Reversing a 2D Array\n",
        "# To reverse a 2D array, you can reverse along different axes:\n",
        "\n",
        "#Reversing Along Axis 0 (Rows)\n",
        "\n",
        "# 2D Array\n",
        "arr_2d = np.array([[1, 2, 3], [4, 5, 6], [7, 8, 9]])\n",
        "reversed_2d_axis0 = arr_2d[::-1, :]\n",
        "\n",
        "print(\"Original 2D Array:\")\n",
        "print(arr_2d)\n",
        "print(\"Reversed 2D Array along Axis 0:\")\n",
        "print(reversed_2d_axis0)\n"
      ]
    },
    {
      "cell_type": "code",
      "execution_count": null,
      "id": "i0gRbr3BGLkX",
      "metadata": {
        "colab": {
          "base_uri": "https://localhost:8080/"
        },
        "id": "i0gRbr3BGLkX",
        "outputId": "cc7ea678-de53-4873-ddc6-325286950722"
      },
      "outputs": [
        {
          "name": "stdout",
          "output_type": "stream",
          "text": [
            "Reversed 2D Array along Axis 1:\n"
          ]
        },
        {
          "data": {
            "text/plain": [
              "array([[3, 2, 1],\n",
              "       [6, 5, 4],\n",
              "       [9, 8, 7]])"
            ]
          },
          "execution_count": 7,
          "metadata": {},
          "output_type": "execute_result"
        }
      ],
      "source": [
        "#  Reversing Along Axis 1 (Columns)\n",
        "reversed_2d_axis1 = arr_2d[:, ::-1]\n",
        "\n",
        "print(\"Reversed 2D Array along Axis 1:\")\n",
        "reversed_2d_axis1\n"
      ]
    },
    {
      "cell_type": "code",
      "execution_count": null,
      "id": "QTQ7y9N1G7q-",
      "metadata": {
        "id": "QTQ7y9N1G7q-"
      },
      "outputs": [],
      "source": []
    },
    {
      "cell_type": "code",
      "execution_count": null,
      "id": "6ulg9-MNGlev",
      "metadata": {
        "colab": {
          "base_uri": "https://localhost:8080/"
        },
        "id": "6ulg9-MNGlev",
        "outputId": "a74676e1-63c9-4007-8d8f-629a4b73ff0f"
      },
      "outputs": [
        {
          "name": "stdout",
          "output_type": "stream",
          "text": [
            "Reversed 2D Array along Both Axes:\n"
          ]
        },
        {
          "data": {
            "text/plain": [
              "array([[9, 8, 7],\n",
              "       [6, 5, 4],\n",
              "       [3, 2, 1]])"
            ]
          },
          "execution_count": 8,
          "metadata": {},
          "output_type": "execute_result"
        }
      ],
      "source": [
        "#Reversing Along Both Axes\n",
        "\n",
        "reversed_2d_both_axes = arr_2d[::-1, ::-1]\n",
        "\n",
        "print(\"Reversed 2D Array along Both Axes:\")\n",
        "reversed_2d_both_axes\n"
      ]
    },
    {
      "cell_type": "code",
      "execution_count": null,
      "id": "bzzyY3-4G91r",
      "metadata": {
        "colab": {
          "base_uri": "https://localhost:8080/"
        },
        "id": "bzzyY3-4G91r",
        "outputId": "73ee63c7-f792-4669-952f-8595f7f2fd0f"
      },
      "outputs": [
        {
          "data": {
            "text/plain": [
              "array([5, 4, 3, 2, 1])"
            ]
          },
          "execution_count": 9,
          "metadata": {},
          "output_type": "execute_result"
        }
      ],
      "source": [
        "#Using np.flip()\n",
        "#NumPy also provides the np.flip() function, which can be used to reverse an array along any axis.\n",
        "\n",
        "arr = np.array([1, 2, 3, 4, 5])\n",
        "reversed_arr = np.flip(arr)\n",
        "reversed_arr"
      ]
    },
    {
      "cell_type": "code",
      "execution_count": null,
      "id": "lEwelQTjHPsi",
      "metadata": {
        "colab": {
          "base_uri": "https://localhost:8080/"
        },
        "id": "lEwelQTjHPsi",
        "outputId": "6d1b59cd-e873-40ba-bf82-ecaa2482dc4f"
      },
      "outputs": [
        {
          "name": "stdout",
          "output_type": "stream",
          "text": [
            "[[1 2 3]\n",
            " [4 5 6]\n",
            " [7 8 9]]\n"
          ]
        },
        {
          "data": {
            "text/plain": [
              "array([[7, 8, 9],\n",
              "       [4, 5, 6],\n",
              "       [1, 2, 3]])"
            ]
          },
          "execution_count": 12,
          "metadata": {},
          "output_type": "execute_result"
        }
      ],
      "source": [
        "# 2D Array Along Axis 0\n",
        "arr_2d = np.array([[1, 2, 3], [4, 5, 6], [7, 8, 9]])\n",
        "reversed_2d_axis0 = np.flip(arr_2d, axis=0)\n",
        "print(arr_2d)\n",
        "reversed_2d_axis0"
      ]
    },
    {
      "cell_type": "code",
      "execution_count": null,
      "id": "SxRak3lGKWsl",
      "metadata": {
        "colab": {
          "base_uri": "https://localhost:8080/"
        },
        "id": "SxRak3lGKWsl",
        "outputId": "35e5410b-26d6-4a5f-e82f-c16d0be2ce19"
      },
      "outputs": [
        {
          "data": {
            "text/plain": [
              "array([[3, 2, 1],\n",
              "       [6, 5, 4],\n",
              "       [9, 8, 7]])"
            ]
          },
          "execution_count": 14,
          "metadata": {},
          "output_type": "execute_result"
        }
      ],
      "source": [
        "#2D Array Along Axis 1\n",
        "reversed_2d_axis1 = np.flip(arr_2d, axis=1)\n",
        "reversed_2d_axis1\n"
      ]
    },
    {
      "cell_type": "code",
      "execution_count": null,
      "id": "Hdhoc_oXKzYC",
      "metadata": {
        "colab": {
          "base_uri": "https://localhost:8080/"
        },
        "id": "Hdhoc_oXKzYC",
        "outputId": "4777deb5-3d9e-442e-fa50-34d695dcf79a"
      },
      "outputs": [
        {
          "data": {
            "text/plain": [
              "array([[9, 8, 7],\n",
              "       [6, 5, 4],\n",
              "       [3, 2, 1]])"
            ]
          },
          "execution_count": 16,
          "metadata": {},
          "output_type": "execute_result"
        }
      ],
      "source": [
        "# 2D Array Along Both Axes\n",
        "reversed_2d_both_axes = np.flip(arr_2d)\n",
        "reversed_2d_both_axes"
      ]
    },
    {
      "cell_type": "code",
      "execution_count": null,
      "id": "tsTFxuFXDE4O",
      "metadata": {
        "id": "tsTFxuFXDE4O"
      },
      "outputs": [],
      "source": [
        "## ans\n",
        "Reversing a NumPy array along different axes can be achieved using slicing and specific NumPy functions. Here are the methods for reversing arrays and examples for both 1D and 2D arrays."
      ]
    },
    {
      "cell_type": "markdown",
      "id": "8UH5R9WCBq79",
      "metadata": {
        "id": "8UH5R9WCBq79"
      },
      "source": [
        "###  4). How can you determine the data type of elements in a NumPy array? Discuss the importance of data types in memory management and performance.\n",
        "\n",
        "ans:- ans:- in numpy array differnt data type occupy differnt amount of memory .of element determine by dtype attribute.\n",
        "data type are int integer int32 take 4 bytes of memory int64 take 8 bytes.and flaot (flaot 64) and float32.\n",
        "Using the correct data type ensures that the precision of the calculations is maintained. For example, if you are dealing with floating-point numbers, using float32 vs. float64 affects the precision of calculations.\n",
        "Operations on arrays are faster when using smaller data types. For instance, performing computations on int8 arrays is faster than on int64 arrays because smaller data types require less memory bandwidth and CPU processing.\n"
      ]
    },
    {
      "cell_type": "code",
      "execution_count": null,
      "id": "19Hz99VDGf_g",
      "metadata": {
        "colab": {
          "base_uri": "https://localhost:8080/"
        },
        "id": "19Hz99VDGf_g",
        "outputId": "39efda58-2bd8-4029-e517-fed7636e5318"
      },
      "outputs": [
        {
          "name": "stdout",
          "output_type": "stream",
          "text": [
            "int64\n",
            "float64\n"
          ]
        }
      ],
      "source": [
        "import numpy as np\n",
        "arr=np.array([1,2,3,4,5])\n",
        "print(arr.dtype)\n",
        "arr1=np.array([1.1,2.1,3.1,4.1,5.1])\n",
        "print(arr1.dtype)"
      ]
    },
    {
      "cell_type": "markdown",
      "id": "0N-53_14wqJA",
      "metadata": {
        "id": "0N-53_14wqJA"
      },
      "source": [
        "### 5). Define ndarrays in NumPy and explain their key features. How do they differ from standard Python lists?\n",
        "\n",
        "#ans:-\n",
        "  In NumPy, ndarrays (N-dimensional arrays) are a central data structure used to store elements of the same data type in a grid-like structure. The \"n-dimensional\" aspect means they can represent data in various dimensions, such as 1D, 2D, 3D, and so on, making them highly flexible for numerical computations.\n",
        "Key Features of NumPy ndarrays:\n",
        "Homogeneous: All elements in an ndarray must be of the same data type, which makes it more efficient for numerical operations.\n",
        "Multi-dimensional: Supports multiple dimensions (1D, 2D, 3D, etc.), making them suitable for complex data manipulations like matrices, tensors, etc.\n",
        "Efficient Memory Usage: Arrays are stored in contiguous blocks of memory, ensuring faster access to elements compared to Python lists.\n",
        "Vectorized Operations: Operations on ndarrays are vectorized, meaning you can apply operations element-wise without explicit loops. This is faster than using loops with standard Python lists.\n",
        "Broadcasting: NumPy supports broadcasting, which allows operations between arrays of different shapes by automatically expanding the smaller array to match the shape of the larger one.\n",
        "Advanced Indexing and Slicing: ndarrays provide more advanced indexing techniques than Python lists, supporting multi-dimensional slicing, boolean indexing, and fancy indexing.\n",
        "Operations can be performed in-place, saving memory.\n",
        "## differnce from list and ndarray as follows\n",
        "numpy ndaray is Homogeneous (all elements are the same type)\tpython list is Heterogeneous (elements can have different types).\n",
        "in numpy ndaray Stored in contiguous memory blocks, highly memory-efficient\tlist is Less efficient, elements are pointers to objects, scattered in memory\n",
        "in numpy ndarray Faster for numerical operations due to vectorization\t.\n",
        "list is Slower as operations involve Python loops.\n",
        "numpy ndaaray is Supports multiple dimensions.\n",
        "list is  (n-dimensional)\tTypically 1D, but can nest lists for multi-dimensionality, which is inefficient.\n",
        "Mathematical Operations in numpy array\tSupports element-wise operations, matrix multiplication, broadcasting, etc.\tin list Requires manual loops for element-wise operations.\n",
        "array has Fixed size once created, but can create new arrays with modified size\tlist is Flexible size, elements can be appended or removed easily.\n",
        "in numpy array Rich set of mathematical, statistical, and algebraic functions.\tin list a Limited built-in functions for lists; additional operations require manual implementation.\n"
      ]
    },
    {
      "cell_type": "markdown",
      "id": "sG3APn3xtrjr",
      "metadata": {
        "id": "sG3APn3xtrjr"
      },
      "source": [
        "### 6). Analyze the performance benefits of NumPy arrays over Python lists for large-scale numerical operations.\n",
        "ans 1. Memory Efficiency\n",
        "Python Lists: Lists are arrays of pointers to objects in memory. Each element in a list is a reference to a Python object, which incurs overhead in terms of memory and CPU time when accessing elements. Additionally, lists can store heterogeneous data types, further increasing memory usage due to metadata (type and reference).\n",
        "NumPy Arrays: NumPy stores data in contiguous memory blocks with fixed data types (homogeneous), making it much more memory-efficient. Because of this, NumPy arrays are more compact in memory, especially for large datasets. This leads to faster access and better caching performance.\n",
        "\n",
        "2. Vectorized Operations\n",
        "Python Lists: Operations on Python lists often require explicit loops for element-wise operations. For example, multiplying all elements of a list by 2 would require a for-loop to iterate over each element and apply the operation.\n",
        "\n",
        "NumPy Arrays: NumPy arrays leverage vectorization, which allows applying operations on entire arrays without explicit loops. Operations like addition, multiplication, and broadcasting are performed at the C level, meaning there’s less overhead compared to Python’s looping mechanisms. This can significantly speed up numerical computations, especially for large datasets.\n",
        "3. Speed\n",
        "Python Lists: Since Python lists store references to objects, there’s a higher overhead when performing mathematical operations due to type checking and resolving references. This slows down execution for large datasets.\n",
        "\n",
        "NumPy Arrays: NumPy arrays are implemented in low-level languages (like C and Fortran) and operate directly on the memory buffer, bypassing Python’s object model and type-checking. This gives NumPy a substantial speed advantage, especially for operations on large arrays.\n",
        "\n",
        "4. Broadcasting\n",
        "Python Lists: Operations involving different-sized data (like adding a scalar to each element of a list or performing element-wise operations between two lists of different sizes) require manual handling, often involving loops or list comprehensions.\n",
        "\n",
        "NumPy Arrays: NumPy supports broadcasting, which automatically expands the smaller array to match the size of the larger one during operations. This makes operations like adding a scalar to an array or combining arrays of different shapes very efficient, without the need for explicit loops.\n",
        "\n",
        "5. Advanced Mathematical Functions\n",
        "Python Lists: Python lists do not come with built-in support for complex mathematical functions. You would need to use loops or external libraries like math or itertools to perform operations like dot products, trigonometric calculations, etc.\n",
        "\n",
        "NumPy Arrays: NumPy comes with a wide variety of built-in functions optimized for fast mathematical operations like matrix multiplication, linear algebra functions, statistical calculations, etc. These functions are implemented in optimized C code, offering substantial performance improvements.\n",
        "\n",
        "For large-scale numerical operations, NumPy arrays offer:\n",
        "\n",
        "Faster execution due to memory-efficient storage and vectorized operations.\n",
        "More concise code without needing loops for element-wise operations.\n",
        "Built-in mathematical operations that are optimized for performance.\n",
        "Thus, NumPy arrays are generally much faster and more efficient than Python lists for numerical computations."
      ]
    },
    {
      "cell_type": "code",
      "execution_count": null,
      "id": "I6tbSd-tunEP",
      "metadata": {
        "colab": {
          "base_uri": "https://localhost:8080/"
        },
        "id": "I6tbSd-tunEP",
        "outputId": "2b9d12d8-359b-4a0a-cf17-4de5e5d437f1"
      },
      "outputs": [
        {
          "name": "stdout",
          "output_type": "stream",
          "text": [
            "[2, 4, 6, 8, 10]\n",
            "[ 2  4  6  8 10]\n"
          ]
        }
      ],
      "source": [
        "my_list = [1, 2, 3, 4, 5]\n",
        "list_result = [x * 2 for x in my_list]\n",
        "\n",
        "# NumPy array example (vectorized)\n",
        "import numpy as np\n",
        "my_array = np.array([1, 2, 3, 4, 5])\n",
        "arr_result = my_array * 2\n",
        "print(list_result)\n",
        "print(arr_result)"
      ]
    },
    {
      "cell_type": "code",
      "execution_count": null,
      "id": "etkhSSkNvWQb",
      "metadata": {
        "colab": {
          "background_save": true
        },
        "id": "etkhSSkNvWQb",
        "outputId": "e2f40dc7-e05f-496b-d516-2a8f7b1e4586"
      },
      "outputs": [
        {
          "name": "stdout",
          "output_type": "stream",
          "text": [
            "Buffered data was truncated after reaching the output size limit."
          ]
        }
      ],
      "source": [
        "# Python list example\n",
        "my_list = list(range(10000000))\n",
        "result = [x * 2 for x in my_list]  # This takes noticeable time.\n",
        "\n",
        "# NumPy array example\n",
        "my_array = np.arange(10000000)\n",
        "arr_result = my_array * 2  # This is much faster.\n",
        "#print(result)\n",
        "print(arr_result)\n"
      ]
    },
    {
      "cell_type": "code",
      "source": [
        "# Broadcasting in NumPy\n",
        "array = np.array([1, 2, 3])\n",
        "scalar = 5\n",
        "result = array + scalar  # NumPy automatically adds 5 to each element.\n"
      ],
      "metadata": {
        "id": "ieq5udEixCJY"
      },
      "id": "ieq5udEixCJY",
      "execution_count": null,
      "outputs": []
    },
    {
      "cell_type": "markdown",
      "source": [
        "\n",
        "### 7.Compare vstack() and hstack() functions in NumPy. Provide examples demonstrating their usage and\n",
        "ans:- In NumPy, vstack() and hstack() are functions used to stack arrays vertically and horizontally, respectively.\n",
        "vstack() Function: Vertical Stacking\n",
        "Purpose: Stacks arrays vertically (row-wise), i.e., along axis 0.\n",
        "Behavior: Combines arrays by stacking them on top of one another.\n",
        "Array Shape Requirement: The arrays must have the same number of columns (i.e., the same second dimension if 2D).\n",
        "hstack() Function: Horizontal Stacking\n",
        "Purpose: Stacks arrays horizontally (column-wise), i.e., along axis 1.\n",
        "Behavior: Combines arrays by stacking them side by side.\n",
        "Array Shape Requirement: The arrays must have the same number of rows (i.e., the same first dimension if 2D).\n",
        "Use vstack() to stack arrays on top of each other (vertically).\n",
        "Use hstack() to stack arrays side by side (horizontally).\n",
        "These functions are particularly useful when combining arrays in multi-dimensional contexts, such as matrix concatenation in machine learning and data analysis.\n",
        "\n",
        "\n",
        "\n",
        "\n",
        "\n",
        "\n"
      ],
      "metadata": {
        "id": "UoZlaCpO0I7T"
      },
      "id": "UoZlaCpO0I7T"
    },
    {
      "cell_type": "code",
      "source": [
        "import numpy as np\n",
        "\n",
        "# Define two 1D arrays\n",
        "arr1 = np.array([1, 2, 3])\n",
        "arr2 = np.array([4, 5, 6])\n",
        "\n",
        "# Vertical stack\n",
        "result_vstack = np.vstack((arr1, arr2))\n",
        "print(\"Vertical Stack:\\n\", result_vstack)\n"
      ],
      "metadata": {
        "colab": {
          "base_uri": "https://localhost:8080/"
        },
        "id": "upXI7hLq1zh1",
        "outputId": "273bd0ab-1708-4ae1-a79b-d8b071037ea7"
      },
      "id": "upXI7hLq1zh1",
      "execution_count": null,
      "outputs": [
        {
          "output_type": "stream",
          "name": "stdout",
          "text": [
            "Vertical Stack:\n",
            " [[1 2 3]\n",
            " [4 5 6]]\n"
          ]
        }
      ]
    },
    {
      "cell_type": "code",
      "source": [
        "arr1_2d = np.array([[1, 2, 3], [4, 5, 6]])\n",
        "arr2_2d = np.array([[7, 8, 9], [10, 11, 12]])\n",
        "\n",
        "result_vstack_2d = np.vstack((arr1_2d, arr2_2d))\n",
        "print(\"Vertical Stack (2D arrays):\\n\", result_vstack_2d)\n"
      ],
      "metadata": {
        "colab": {
          "base_uri": "https://localhost:8080/"
        },
        "id": "Zn2KIqHu12tw",
        "outputId": "539f6ba5-f5f1-4fe8-a805-a97223b1f91a"
      },
      "id": "Zn2KIqHu12tw",
      "execution_count": null,
      "outputs": [
        {
          "output_type": "stream",
          "name": "stdout",
          "text": [
            "Vertical Stack (2D arrays):\n",
            " [[ 1  2  3]\n",
            " [ 4  5  6]\n",
            " [ 7  8  9]\n",
            " [10 11 12]]\n"
          ]
        }
      ]
    },
    {
      "cell_type": "code",
      "source": [
        "# Horizontal stack of 1D arrays\n",
        "result_hstack = np.hstack((arr1, arr2))\n",
        "print(\"Horizontal Stack:\\n\", result_hstack)\n"
      ],
      "metadata": {
        "colab": {
          "base_uri": "https://localhost:8080/"
        },
        "id": "_m-lnXJm17CG",
        "outputId": "00b46528-ac89-4e0f-b75d-895acfbc022d"
      },
      "id": "_m-lnXJm17CG",
      "execution_count": null,
      "outputs": [
        {
          "output_type": "stream",
          "name": "stdout",
          "text": [
            "Horizontal Stack:\n",
            " [1 2 3 4 5 6]\n"
          ]
        }
      ]
    },
    {
      "cell_type": "code",
      "source": [
        "result_hstack_2d = np.hstack((arr1_2d, arr2_2d))\n",
        "print(\"Horizontal Stack (2D arrays):\\n\", result_hstack_2d)\n"
      ],
      "metadata": {
        "colab": {
          "base_uri": "https://localhost:8080/"
        },
        "id": "yLqTTAIZ1_NC",
        "outputId": "1f393ecc-0c76-491a-adcb-4afc202b51c0"
      },
      "id": "yLqTTAIZ1_NC",
      "execution_count": null,
      "outputs": [
        {
          "output_type": "stream",
          "name": "stdout",
          "text": [
            "Horizontal Stack (2D arrays):\n",
            " [[ 1  2  3  7  8  9]\n",
            " [ 4  5  6 10 11 12]]\n"
          ]
        }
      ]
    },
    {
      "cell_type": "markdown",
      "source": [
        "### 8) Explain the differences between fliplr() and flipud() methods in NumPy, including their effects on various\n",
        "array dimensions.\n",
        "\n",
        "ans:- In NumPy, the fliplr() and flipud() methods are used to flip arrays along different axes.\n",
        "fliplr(): Flip Left to Right\n",
        "Purpose: This function flips the array in the left-right direction, i.e., it reverses the order of columns for a 2D array or the corresponding axis for higher dimensions.\n",
        "Axis Affected: It flips along the second axis (axis=1) for 2D arrays. For 1D arrays, this method cannot be applied since there is no \"left\" or \"right\" in a 1D structure.\n",
        "flipud(): Flip Up to Down\n",
        "Purpose: This function flips the array up-down, i.e., it reverses the order of rows for a 2D array or the corresponding axis for higher dimensions.\n",
        "Axis Affected: It flips along the first axis (axis=0) for 2D arrays. In this case, rows are reversed.\n",
        "fliplr() is used for flipping an array left-to-right (horizontal flip), affecting the column order in 2D or higher-dimensional arrays.\n",
        "flipud() is used for flipping an array up-to-down (vertical flip), affecting the row order in 2D or higher-dimensional arrays.\n",
        "Both functions are useful for array manipulation in tasks involving image processing, data transformation, and matrix operations."
      ],
      "metadata": {
        "id": "W9oc0nGt5aAh"
      },
      "id": "W9oc0nGt5aAh"
    },
    {
      "cell_type": "code",
      "source": [
        "import numpy as np\n",
        "\n",
        "# 2D array\n",
        "arr = np.array([[1, 2, 3],\n",
        "                [4, 5, 6],\n",
        "                [7, 8, 9]])\n",
        "\n",
        "# Flip the array left to right\n",
        "result_fliplr = np.fliplr(arr)\n",
        "print(\"Original Array:\\n\", arr)\n",
        "print(\"Fliplr Result:\\n\", result_fliplr)\n"
      ],
      "metadata": {
        "colab": {
          "base_uri": "https://localhost:8080/"
        },
        "id": "108EuNUv5Zg4",
        "outputId": "dac16bf9-cf39-4fa6-dfc0-a416667ca02f"
      },
      "id": "108EuNUv5Zg4",
      "execution_count": null,
      "outputs": [
        {
          "output_type": "stream",
          "name": "stdout",
          "text": [
            "Original Array:\n",
            " [[1 2 3]\n",
            " [4 5 6]\n",
            " [7 8 9]]\n",
            "Fliplr Result:\n",
            " [[3 2 1]\n",
            " [6 5 4]\n",
            " [9 8 7]]\n"
          ]
        }
      ]
    },
    {
      "cell_type": "code",
      "source": [
        "# Flip the array up-down\n",
        "arr = np.array([[1, 2, 3],\n",
        "                [4, 5, 6],\n",
        "                [7, 8, 9]])\n",
        "\n",
        "result_flipud = np.flipud(arr)\n",
        "print(\"Flipud Result:\\n\", result_flipud)\n"
      ],
      "metadata": {
        "colab": {
          "base_uri": "https://localhost:8080/"
        },
        "id": "fIKv4U4392hD",
        "outputId": "da93d8ea-f374-4e3c-d016-8e0c5ba597f0"
      },
      "id": "fIKv4U4392hD",
      "execution_count": null,
      "outputs": [
        {
          "output_type": "stream",
          "name": "stdout",
          "text": [
            "Flipud Result:\n",
            " [[7 8 9]\n",
            " [4 5 6]\n",
            " [1 2 3]]\n"
          ]
        }
      ]
    },
    {
      "cell_type": "code",
      "source": [
        "# 1D Arrays: fliplr() does not work on 1D arrays, whereas flipud() works and simply reverses the elements.\n",
        "arr_1d = np.array([1, 2, 3, 4])\n",
        "result_flipud_1d = np.flipud(arr_1d)\n",
        "print(\"1D Array flipud Result:\", result_flipud_1d)\n"
      ],
      "metadata": {
        "colab": {
          "base_uri": "https://localhost:8080/"
        },
        "id": "p62-phmO-NfU",
        "outputId": "4920c952-d4e6-42be-9ce9-b9a972653a4a"
      },
      "id": "p62-phmO-NfU",
      "execution_count": null,
      "outputs": [
        {
          "output_type": "stream",
          "name": "stdout",
          "text": [
            "1D Array flipud Result: [4 3 2 1]\n"
          ]
        }
      ]
    },
    {
      "cell_type": "code",
      "source": [
        "#3D Arrays:\n",
        "arr_3d = np.array([[[1, 2], [3, 4]],\n",
        "                   [[5, 6], [7, 8]]])\n",
        "\n",
        "# Flip 3D array horizontally (left-right)\n",
        "result_fliplr_3d = np.fliplr(arr_3d)\n",
        "\n",
        "# Flip 3D array vertically (up-down)\n",
        "result_flipud_3d = np.flipud(arr_3d)\n",
        "\n",
        "print(\"Original 3D Array:\\n\", arr_3d)\n",
        "print(\"Fliplr 3D Result:\\n\", result_fliplr_3d)\n",
        "print(\"Flipud 3D Result:\\n\", result_flipud_3d)\n",
        "\n"
      ],
      "metadata": {
        "colab": {
          "base_uri": "https://localhost:8080/"
        },
        "id": "XZoat6h3-NcE",
        "outputId": "6e12ab48-c4b1-4cac-95d0-d4135d3b05e0"
      },
      "id": "XZoat6h3-NcE",
      "execution_count": null,
      "outputs": [
        {
          "output_type": "stream",
          "name": "stdout",
          "text": [
            "Original 3D Array:\n",
            " [[[1 2]\n",
            "  [3 4]]\n",
            "\n",
            " [[5 6]\n",
            "  [7 8]]]\n",
            "Fliplr 3D Result:\n",
            " [[[3 4]\n",
            "  [1 2]]\n",
            "\n",
            " [[7 8]\n",
            "  [5 6]]]\n",
            "Flipud 3D Result:\n",
            " [[[5 6]\n",
            "  [7 8]]\n",
            "\n",
            " [[1 2]\n",
            "  [3 4]]]\n"
          ]
        }
      ]
    },
    {
      "cell_type": "markdown",
      "source": [
        "### 9) Discuss the functionality of the array_split() method in NumPy. How does it handle uneven splits?\n",
        "he array_split() method in NumPy is used to split an array into multiple sub-arrays along a specified axis. It is very similar to the split() method but with one key difference: array_split() can handle uneven splits, meaning it can split an array into sub-arrays of varying sizes when the number of elements isn't evenly divisible by the number of splits.\n",
        "syntax:- numpy.array_split(array, indices_or_sections, axis=0)\n",
        "array: The input array to be split.\n",
        "indices_or_sections: Can be either an integer or a list:\n",
        "If it is an integer, it specifies the number of equal or nearly equal sub-arrays to split the array into.\n",
        "If it is a list of integers, it specifies the indices at which to split the array.\n",
        "axis: The axis along which to split the array. By default, it is axis=0 (row-wise for 2D arrays).\n",
        "Handling of Uneven Splits:\n",
        "If the number of elements in the array is not evenly divisible by the number of sections specified, array_split() will distribute the extra elements across the resulting sub-arrays. The sub-arrays at the beginning will have more elements than those at the end.\n"
      ],
      "metadata": {
        "id": "ifKUUS8g_YXc"
      },
      "id": "ifKUUS8g_YXc"
    },
    {
      "cell_type": "code",
      "source": [
        "#Example 1: Integer as indices_or_sections (uneven split): If the array has 10 elements and you want to split it into 3 sections, array_split() will handle the uneven division by assigning the extra elements to the first few sections.\n",
        "import numpy as np\n",
        "\n",
        "# Define a 1D array with 10 elements\n",
        "arr = np.arange(10)  # [0 1 2 3 4 5 6 7 8 9]\n",
        "\n",
        "# Split the array into 3 sub-arrays\n",
        "result = np.array_split(arr, 3)\n",
        "\n",
        "for i, sub_arr in enumerate(result):\n",
        "    print(f\"Sub-array {i+1}: {sub_arr}\")\n",
        "# Here, the original array [0, 1, ..., 9] has been split into 3 sub-arrays. The first sub-array has 4 elements, while the second and third sub-arrays have 3 elements each.\n"
      ],
      "metadata": {
        "colab": {
          "base_uri": "https://localhost:8080/"
        },
        "id": "bvI_6IJO-NTS",
        "outputId": "0d47e60c-0e15-498a-c7e9-2e9a8746589f"
      },
      "id": "bvI_6IJO-NTS",
      "execution_count": null,
      "outputs": [
        {
          "output_type": "stream",
          "name": "stdout",
          "text": [
            "Sub-array 1: [0 1 2 3]\n",
            "Sub-array 2: [4 5 6]\n",
            "Sub-array 3: [7 8 9]\n"
          ]
        }
      ]
    },
    {
      "cell_type": "code",
      "source": [
        "# Example 2: Integer as indices_or_sections (even split):If the number of elements is evenly divisible by the number of splits, the result will be evenly sized sub-arrays.\n",
        "# Define a 1D array with 12 elements\n",
        "arr = np.arange(12)  # [0 1 2 3 4 5 6 7 8 9 10 11]\n",
        "\n",
        "# Split the array into 3 equal parts\n",
        "result = np.array_split(arr, 3)\n",
        "\n",
        "for i, sub_arr in enumerate(result):\n",
        "    print(f\"Sub-array {i+1}: {sub_arr}\")\n"
      ],
      "metadata": {
        "colab": {
          "base_uri": "https://localhost:8080/"
        },
        "id": "4l8Ylzrl-NKw",
        "outputId": "d685a6e1-6e73-4476-919c-3afbfca69a0b"
      },
      "id": "4l8Ylzrl-NKw",
      "execution_count": null,
      "outputs": [
        {
          "output_type": "stream",
          "name": "stdout",
          "text": [
            "Sub-array 1: [0 1 2 3]\n",
            "Sub-array 2: [4 5 6 7]\n",
            "Sub-array 3: [ 8  9 10 11]\n"
          ]
        }
      ]
    },
    {
      "cell_type": "code",
      "source": [
        "# # Example 3: List of indices_or_sections:\n",
        "#If you provide a list of integers as indices_or_sections, NumPy will split the array at the specified indices. This gives you fine-grained control over how to split the array.\n",
        "# Define a 1D array\n",
        "arr = np.arange(10)  # [0 1 2 3 4 5 6 7 8 9]\n",
        "\n",
        "# Split the array at the specified indices [3, 5, 8]\n",
        "result = np.array_split(arr, [3, 5, 8])\n",
        "\n",
        "for i, sub_arr in enumerate(result):\n",
        "    print(f\"Sub-array {i+1}: {sub_arr}\")\n"
      ],
      "metadata": {
        "colab": {
          "base_uri": "https://localhost:8080/"
        },
        "id": "OLPrETP-DMXQ",
        "outputId": "5b73225e-3632-458e-a432-a1436b40c1a1"
      },
      "id": "OLPrETP-DMXQ",
      "execution_count": null,
      "outputs": [
        {
          "output_type": "stream",
          "name": "stdout",
          "text": [
            "Sub-array 1: [0 1 2]\n",
            "Sub-array 2: [3 4]\n",
            "Sub-array 3: [5 6 7]\n",
            "Sub-array 4: [8 9]\n"
          ]
        }
      ]
    },
    {
      "cell_type": "code",
      "source": [
        "#Example 4: Splitting 2D Arrays:\n",
        "#You can also split 2D arrays along a specific axis. By default, array_split() splits row-wise (along axis=0).\n",
        "\n",
        "# Define a 2D array\n",
        "arr_2d = np.arange(16).reshape(4, 4)\n",
        "\n",
        "# Split the 2D array into 3 parts row-wise\n",
        "result = np.array_split(arr_2d, 3, axis=0)\n",
        "\n",
        "for i, sub_arr in enumerate(result):\n",
        "    print(f\"Sub-array {i+1}:\\n{sub_arr}\")"
      ],
      "metadata": {
        "colab": {
          "base_uri": "https://localhost:8080/"
        },
        "id": "uebrjb71DMKR",
        "outputId": "498c70e5-1fde-4648-a599-565c0f18797a"
      },
      "id": "uebrjb71DMKR",
      "execution_count": null,
      "outputs": [
        {
          "output_type": "stream",
          "name": "stdout",
          "text": [
            "Sub-array 1:\n",
            "[[0 1 2 3]\n",
            " [4 5 6 7]]\n",
            "Sub-array 2:\n",
            "[[ 8  9 10 11]]\n",
            "Sub-array 3:\n",
            "[[12 13 14 15]]\n"
          ]
        }
      ]
    },
    {
      "cell_type": "markdown",
      "source": [
        "### 10). Explain the concepts of vectorization and broadcasting in NumPy. How do they contribute to efficient array oprations.\n",
        "ans:- 1. Vectorization:\n",
        "Vectorization refers to the process of applying operations to entire arrays (or vectors) rather than iterating element by element using loops. It allows the use of highly optimized, low-level C or Fortran code to execute operations in parallel, which leads to significant performance improvements over explicit Python loops.\n",
        "\n",
        "Key Features of Vectorization:\n",
        "Array-wide operations: Mathematical operations (e.g., addition, multiplication) can be applied directly to entire arrays without needing to write loops.\n",
        "Performance boost: Since operations are executed at a lower level in compiled code, they are much faster than equivalent Python loops.\n",
        "Cleaner, more concise code: Code written with vectorized operations is often more readable and easier to maintain.\n",
        "\n",
        "2. Broadcasting:\n",
        "Broadcasting in NumPy refers to the ability of the library to perform operations on arrays of different shapes and sizes by \"stretching\" or \"broadcasting\" the smaller array to match the shape of the larger array. Broadcasting allows for operations between arrays of different dimensions without making unnecessary copies of data.\n",
        "Key Features of Broadcasting:\n",
        "Shape alignment: NumPy automatically aligns arrays with different shapes by \"broadcasting\" smaller arrays across the larger one.\n",
        "Memory efficiency: Broadcasting avoids making large copies of arrays, instead reusing memory and performing operations in a way that is memory-efficient.\n",
        "Dimensionality handling: It simplifies operations between arrays with different dimensionalities by internally matching dimensions where possible.\n",
        "Broadcasting Rules:\n",
        "Arrays with different dimensions: NumPy compares the shapes of the arrays from the rightmost dimension, and broadcasting is possible when:\n",
        "The sizes of the dimensions are equal, or\n",
        "One of the dimensions has size 1, allowing it to be broadcast to match the size of the other.\n",
        "Automatic stretching: If a dimension in the smaller array is of size 1, NumPy \"stretches\" it to match the corresponding dimension of the larger array.\n",
        "Example 1: Scalar and Array"
      ],
      "metadata": {
        "id": "YgN7onGAEWvM"
      },
      "id": "YgN7onGAEWvM"
    },
    {
      "cell_type": "code",
      "source": [
        "import numpy as np\n",
        "\n",
        "arr1 = np.array([1, 2, 3])\n",
        "arr2 = np.array([4, 5, 6])\n",
        "\n",
        "# Non-vectorized (loop-based) element-wise addition\n",
        "result = []\n",
        "for i in range(len(arr1)):\n",
        "    result.append(arr1[i] + arr2[i])\n",
        "print(result)\n"
      ],
      "metadata": {
        "colab": {
          "base_uri": "https://localhost:8080/"
        },
        "id": "QIBXm9a9EWW0",
        "outputId": "67534906-cb9e-4ab3-80e8-6446a5c127d4"
      },
      "id": "QIBXm9a9EWW0",
      "execution_count": null,
      "outputs": [
        {
          "output_type": "stream",
          "name": "stdout",
          "text": [
            "[5, 7, 9]\n"
          ]
        }
      ]
    },
    {
      "cell_type": "code",
      "execution_count": null,
      "id": "5a4e4109-73a9-459a-8d74-435c4bf06223",
      "metadata": {
        "id": "5a4e4109-73a9-459a-8d74-435c4bf06223",
        "colab": {
          "base_uri": "https://localhost:8080/"
        },
        "outputId": "2d27c921-31e5-4a6d-eb9c-51f5db3d83b9"
      },
      "outputs": [
        {
          "output_type": "stream",
          "name": "stdout",
          "text": [
            "[5 7 9]\n"
          ]
        }
      ],
      "source": [
        "# Vectorized element-wise addition\n",
        "arr1 = np.array([1, 2, 3])\n",
        "arr2 = np.array([4, 5, 6])\n",
        "result = arr1 + arr2\n",
        "print(result)\n",
        "#Performance Benefit: The vectorized code (arr1 + arr2) is faster because it uses highly optimized, parallelized\n",
        "\n",
        "\n",
        "\n",
        "\n",
        "\n",
        "\n",
        "\n"
      ]
    },
    {
      "cell_type": "code",
      "execution_count": null,
      "id": "NnUXIHVeB9El",
      "metadata": {
        "id": "NnUXIHVeB9El",
        "colab": {
          "base_uri": "https://localhost:8080/"
        },
        "outputId": "7d38ed6c-1472-4433-a339-f136922c781d"
      },
      "outputs": [
        {
          "output_type": "stream",
          "name": "stdout",
          "text": [
            "[2 4 6]\n"
          ]
        }
      ],
      "source": [
        "arr = np.array([1, 2, 3])\n",
        "\n",
        "# Broadcasting scalar to array\n",
        "result = arr * 2\n",
        "print(result)\n",
        "#Here, the scalar 2 is broadcasted to match the shape of arr, so the multiplication is performed element-wise without needing to explicitly define an array of the same size\n"
      ]
    },
    {
      "cell_type": "code",
      "execution_count": null,
      "id": "cb5460e0-186b-4431-94f8-96356b057087",
      "metadata": {
        "id": "cb5460e0-186b-4431-94f8-96356b057087",
        "colab": {
          "base_uri": "https://localhost:8080/"
        },
        "outputId": "a894e283-bc2d-4c91-e25e-4438240296f8"
      },
      "outputs": [
        {
          "output_type": "stream",
          "name": "stdout",
          "text": [
            "[[11 22 33]\n",
            " [14 25 36]]\n"
          ]
        }
      ],
      "source": [
        "# Example 2: Arrays with Different Shapes\n",
        "arr1 = np.array([[1, 2, 3], [4, 5, 6]])  # Shape: (2, 3)\n",
        "arr2 = np.array([10, 20, 30])            # Shape: (3,)\n",
        "\n",
        "# Broadcasting arr2 to match the shape of arr1\n",
        "result = arr1 + arr2\n",
        "print(result)\n",
        "\n",
        "# In this example, arr2 (shape (3,)) is broadcast to match the shape of arr1 (shape (2, 3)). NumPy stretches arr2 along the first axis to perform the element-wise addition.\n"
      ]
    },
    {
      "cell_type": "code",
      "execution_count": null,
      "id": "dd69d762-6dae-419b-a326-4da0aaa929f0",
      "metadata": {
        "id": "dd69d762-6dae-419b-a326-4da0aaa929f0",
        "colab": {
          "base_uri": "https://localhost:8080/"
        },
        "outputId": "6c372d79-a64e-4910-c443-f15cfcd591a9"
      },
      "outputs": [
        {
          "output_type": "stream",
          "name": "stdout",
          "text": [
            "[[11 21 31]\n",
            " [12 22 32]\n",
            " [13 23 33]]\n"
          ]
        }
      ],
      "source": [
        "# Broadcasting with Higher Dimensions:\n",
        "\n",
        "arr1 = np.array([1, 2, 3]).reshape(3, 1)  # Shape: (3, 1)\n",
        "arr2 = np.array([10, 20, 30])             # Shape: (3,)\n",
        "\n",
        "result = arr1 + arr2\n",
        "print(result)\n",
        "# Here, arr1 (shape (3, 1)) and arr2 (shape (3,)) are broadcast together to result in a final shape of (3, 3).\n",
        "\n",
        "#Broadcasting and Dimensionality:\n",
        "#For two arrays to be broadcastable, their dimensions must either be equal or one of them must be 1. Here's an illustration:\n",
        "\n",
        "#Shape (5, 3) and Shape (1, 3) → Broadcasting works because the first dimension of 1 can be stretched to 5.\n",
        "#Shape (4, 2, 3) and Shape (2, 3) → Broadcasting works because the second and third dimensions match.\n",
        "#Shape (3, 3) and Shape (4, 3) → Broadcasting does not work because the first dimensions (3 and 4) do not match.\n"
      ]
    },
    {
      "cell_type": "code",
      "execution_count": null,
      "id": "1a777f94-34ad-43c7-9d26-1d2649159cbe",
      "metadata": {
        "id": "1a777f94-34ad-43c7-9d26-1d2649159cbe"
      },
      "outputs": [],
      "source": []
    },
    {
      "cell_type": "code",
      "execution_count": null,
      "id": "f9722a5c-b6f4-428c-a537-881061c82495",
      "metadata": {
        "id": "f9722a5c-b6f4-428c-a537-881061c82495"
      },
      "outputs": [],
      "source": []
    },
    {
      "cell_type": "code",
      "execution_count": null,
      "id": "334f05bd-8083-49bd-9079-3f0245e1aadb",
      "metadata": {
        "id": "334f05bd-8083-49bd-9079-3f0245e1aadb"
      },
      "outputs": [],
      "source": []
    },
    {
      "cell_type": "code",
      "execution_count": null,
      "id": "9a922af6-e523-4f66-bf11-6a31775c0295",
      "metadata": {
        "id": "9a922af6-e523-4f66-bf11-6a31775c0295"
      },
      "outputs": [],
      "source": []
    },
    {
      "cell_type": "markdown",
      "id": "76819d79-1f9d-41f6-8c0a-13dc14427c3e",
      "metadata": {
        "id": "76819d79-1f9d-41f6-8c0a-13dc14427c3e"
      },
      "source": [
        "# Practical Questions:"
      ]
    },
    {
      "cell_type": "markdown",
      "id": "0553c17e-1b77-4a09-b54e-a2c71bd27dc2",
      "metadata": {
        "id": "0553c17e-1b77-4a09-b54e-a2c71bd27dc2"
      },
      "source": [
        "### 1). Create a 3x3 NumPy array with random integers between 1 and 100. Then, interchange its rows and columns.\n",
        "\n"
      ]
    },
    {
      "cell_type": "code",
      "execution_count": null,
      "id": "0b423868-d060-41ab-822d-bd5ff3f1b383",
      "metadata": {
        "id": "0b423868-d060-41ab-822d-bd5ff3f1b383"
      },
      "outputs": [],
      "source": [
        "import numpy as np\n"
      ]
    },
    {
      "cell_type": "code",
      "execution_count": null,
      "id": "2eae31c7-455b-4fce-ad51-85a25d9ed3cd",
      "metadata": {
        "id": "2eae31c7-455b-4fce-ad51-85a25d9ed3cd",
        "outputId": "e888c92a-84b3-4e2d-a258-8f41fa4e2ea3"
      },
      "outputs": [
        {
          "data": {
            "text/plain": [
              "array([[21, 95, 92],\n",
              "       [71, 68, 79],\n",
              "       [56, 12, 49]])"
            ]
          },
          "execution_count": 16,
          "metadata": {},
          "output_type": "execute_result"
        }
      ],
      "source": [
        "arr=np.random.randint(1,100,size=(3,3))\n",
        "arr"
      ]
    },
    {
      "cell_type": "code",
      "execution_count": null,
      "id": "93e2e28e-7e10-4b45-9c6e-ea143e339cba",
      "metadata": {
        "id": "93e2e28e-7e10-4b45-9c6e-ea143e339cba",
        "outputId": "b8686985-50f0-4ce4-f11f-531391703624"
      },
      "outputs": [
        {
          "data": {
            "text/plain": [
              "array([[21, 71, 56],\n",
              "       [95, 68, 12],\n",
              "       [92, 79, 49]])"
            ]
          },
          "execution_count": 19,
          "metadata": {},
          "output_type": "execute_result"
        }
      ],
      "source": [
        "#Then, interchange its rows and columns.¶\n",
        "arr.transpose()"
      ]
    },
    {
      "cell_type": "code",
      "execution_count": null,
      "id": "64155fe0-48c3-4706-8a7a-ff0b7ce85a3e",
      "metadata": {
        "id": "64155fe0-48c3-4706-8a7a-ff0b7ce85a3e",
        "outputId": "303bb4f0-446e-440e-f4cb-eab67c1c9262"
      },
      "outputs": [
        {
          "data": {
            "text/plain": [
              "array([[21, 71, 56],\n",
              "       [95, 68, 12],\n",
              "       [92, 79, 49]])"
            ]
          },
          "execution_count": 18,
          "metadata": {},
          "output_type": "execute_result"
        }
      ],
      "source": [
        "np.transpose(arr)"
      ]
    },
    {
      "cell_type": "markdown",
      "id": "631c9fde-c63a-4317-9d6e-a8a4266756e3",
      "metadata": {
        "id": "631c9fde-c63a-4317-9d6e-a8a4266756e3"
      },
      "source": [
        "###  2) Generate a 1D NumPy array with 10 elements. Reshape it into a 2x5 array, then into a 5x2 array."
      ]
    },
    {
      "cell_type": "code",
      "execution_count": null,
      "id": "65ea2086-3513-42e6-a30a-45839eccdb41",
      "metadata": {
        "id": "65ea2086-3513-42e6-a30a-45839eccdb41",
        "outputId": "9393f5ad-b8b4-452d-ea4f-e6f2061376b3"
      },
      "outputs": [
        {
          "data": {
            "text/plain": [
              "array([ 1,  2,  3,  4,  5,  6,  7,  8,  9, 10])"
            ]
          },
          "execution_count": 25,
          "metadata": {},
          "output_type": "execute_result"
        }
      ],
      "source": [
        "# Generate a 1D NumPy array with 10 element\n",
        "one_d_array=np.array(range(1,11))\n",
        "one_d_array"
      ]
    },
    {
      "cell_type": "code",
      "execution_count": null,
      "id": "cafd6606-d8da-4baa-8f6d-975f066d814e",
      "metadata": {
        "id": "cafd6606-d8da-4baa-8f6d-975f066d814e",
        "outputId": "a887951f-8102-4ae5-8294-9b068dcf2834"
      },
      "outputs": [
        {
          "data": {
            "text/plain": [
              "array([[ 1,  2,  3,  4,  5],\n",
              "       [ 6,  7,  8,  9, 10]])"
            ]
          },
          "execution_count": 27,
          "metadata": {},
          "output_type": "execute_result"
        }
      ],
      "source": [
        "# Reshape it into a 2x5 array,\n",
        "reshape_arr=one_d_array.reshape(2,5)\n",
        "reshape_arr"
      ]
    },
    {
      "cell_type": "code",
      "execution_count": null,
      "id": "266324f4-a923-4c82-aa28-5940f81f4eb9",
      "metadata": {
        "id": "266324f4-a923-4c82-aa28-5940f81f4eb9",
        "outputId": "a9a44a44-8274-4936-8a7c-8ef85b948eb5"
      },
      "outputs": [
        {
          "data": {
            "text/plain": [
              "array([[ 1,  2],\n",
              "       [ 3,  4],\n",
              "       [ 5,  6],\n",
              "       [ 7,  8],\n",
              "       [ 9, 10]])"
            ]
          },
          "execution_count": 29,
          "metadata": {},
          "output_type": "execute_result"
        }
      ],
      "source": [
        "# then into a 5x2 array.\n",
        "arr_reshap=reshape_arr.reshape(5,2)\n",
        "arr_reshap"
      ]
    },
    {
      "cell_type": "markdown",
      "id": "a578bdec-bd42-4afd-aca0-422e6be8f137",
      "metadata": {
        "id": "a578bdec-bd42-4afd-aca0-422e6be8f137"
      },
      "source": [
        "### 3). Create a 4x4 NumPy array with random float values. Add a border of zeros around it, resulting in a 6x6 array."
      ]
    },
    {
      "cell_type": "code",
      "execution_count": null,
      "id": "b3ef54de-cf2f-4e1f-a795-080d7fa53fdf",
      "metadata": {
        "colab": {
          "base_uri": "https://localhost:8080/"
        },
        "id": "b3ef54de-cf2f-4e1f-a795-080d7fa53fdf",
        "outputId": "d107d28f-9aa0-403e-defe-4e8a26c64730"
      },
      "outputs": [
        {
          "data": {
            "text/plain": [
              "array([[0.65245283, 0.62904694, 0.44563944, 0.17555139],\n",
              "       [0.69544416, 0.22047699, 0.85542028, 0.69315685],\n",
              "       [0.32560999, 0.38046153, 0.27178503, 0.5234138 ],\n",
              "       [0.97215306, 0.13496661, 0.06181505, 0.77432796]])"
            ]
          },
          "execution_count": 5,
          "metadata": {},
          "output_type": "execute_result"
        }
      ],
      "source": [
        "arr=np.random.rand(4,4)\n",
        "arr"
      ]
    },
    {
      "cell_type": "code",
      "execution_count": null,
      "id": "0a1d4e3a-3500-4179-bb4e-fc59e65ff707",
      "metadata": {
        "colab": {
          "base_uri": "https://localhost:8080/"
        },
        "id": "0a1d4e3a-3500-4179-bb4e-fc59e65ff707",
        "outputId": "961566ca-fb3a-4a54-e98a-84d6db0735ea"
      },
      "outputs": [
        {
          "data": {
            "text/plain": [
              "array([[0., 0., 0., 0., 0., 0.],\n",
              "       [0., 0., 0., 0., 0., 0.],\n",
              "       [0., 0., 0., 0., 0., 0.],\n",
              "       [0., 0., 0., 0., 0., 0.],\n",
              "       [0., 0., 0., 0., 0., 0.],\n",
              "       [0., 0., 0., 0., 0., 0.]])"
            ]
          },
          "execution_count": 78,
          "metadata": {},
          "output_type": "execute_result"
        }
      ],
      "source": [
        "array_6x6=np.zeros((6,6))\n",
        "array_6x6"
      ]
    },
    {
      "cell_type": "code",
      "execution_count": null,
      "id": "e08615b2-427a-47cf-89af-2c6a8054c2a8",
      "metadata": {
        "id": "e08615b2-427a-47cf-89af-2c6a8054c2a8"
      },
      "outputs": [],
      "source": [
        "array_6x6[1:-1, 1:-1] = arr"
      ]
    },
    {
      "cell_type": "code",
      "execution_count": null,
      "id": "1218965d-5211-44dd-9f59-578d28c0a7ae",
      "metadata": {
        "colab": {
          "base_uri": "https://localhost:8080/"
        },
        "id": "1218965d-5211-44dd-9f59-578d28c0a7ae",
        "outputId": "e426d23c-4939-4f1b-fa39-f4c3e5c369a6"
      },
      "outputs": [
        {
          "name": "stdout",
          "output_type": "stream",
          "text": [
            "[[0.         0.         0.         0.         0.         0.        ]\n",
            " [0.         0.65245283 0.62904694 0.44563944 0.17555139 0.        ]\n",
            " [0.         0.69544416 0.22047699 0.85542028 0.69315685 0.        ]\n",
            " [0.         0.32560999 0.38046153 0.27178503 0.5234138  0.        ]\n",
            " [0.         0.97215306 0.13496661 0.06181505 0.77432796 0.        ]\n",
            " [0.         0.         0.         0.         0.         0.        ]]\n"
          ]
        }
      ],
      "source": [
        "print(array_6x6)\n"
      ]
    },
    {
      "cell_type": "markdown",
      "id": "jfueFg587mkc",
      "metadata": {
        "id": "jfueFg587mkc"
      },
      "source": [
        "### 4). Using NumPy, create an array of integers from 10 to 60 with a step of 5."
      ]
    },
    {
      "cell_type": "code",
      "execution_count": null,
      "id": "19cac7db-d970-4c70-af0f-838053610411",
      "metadata": {
        "id": "19cac7db-d970-4c70-af0f-838053610411"
      },
      "outputs": [],
      "source": [
        "arrs=np.arange(10,60,5)"
      ]
    },
    {
      "cell_type": "code",
      "execution_count": null,
      "id": "3691a5fe-2ad7-488b-bf7e-d135bfcfc230",
      "metadata": {
        "colab": {
          "base_uri": "https://localhost:8080/"
        },
        "id": "3691a5fe-2ad7-488b-bf7e-d135bfcfc230",
        "outputId": "81948f3f-5db0-4128-d471-3b17899771f0"
      },
      "outputs": [
        {
          "data": {
            "text/plain": [
              "array([10, 15, 20, 25, 30, 35, 40, 45, 50, 55])"
            ]
          },
          "execution_count": 17,
          "metadata": {},
          "output_type": "execute_result"
        }
      ],
      "source": [
        "arrs"
      ]
    },
    {
      "cell_type": "markdown",
      "id": "WW-deKna78VI",
      "metadata": {
        "id": "WW-deKna78VI"
      },
      "source": [
        "###  5). Create a NumPy array of strings ['python', 'numpy', 'pandas']. Apply different case transformations  ( uppercase, lowercase, title case, etc.) to each element.\n"
      ]
    },
    {
      "cell_type": "code",
      "execution_count": null,
      "id": "eab940e2-b651-4039-9b58-199b0f277aa4",
      "metadata": {
        "colab": {
          "base_uri": "https://localhost:8080/"
        },
        "id": "eab940e2-b651-4039-9b58-199b0f277aa4",
        "outputId": "4a932376-08eb-4baf-8e2b-93670402a733"
      },
      "outputs": [
        {
          "data": {
            "text/plain": [
              "array(['python', 'numpy', 'pandas'], dtype='<U6')"
            ]
          },
          "execution_count": 19,
          "metadata": {},
          "output_type": "execute_result"
        }
      ],
      "source": [
        "str_arr=np.array(['python', 'numpy', 'pandas'])\n",
        "str_arr"
      ]
    },
    {
      "cell_type": "code",
      "execution_count": null,
      "id": "e3794960-1db0-4dd3-a566-eabed9148fd1",
      "metadata": {
        "colab": {
          "base_uri": "https://localhost:8080/"
        },
        "id": "e3794960-1db0-4dd3-a566-eabed9148fd1",
        "outputId": "13f8194f-fa1d-424a-f12d-e8f4dde16716"
      },
      "outputs": [
        {
          "data": {
            "text/plain": [
              "array(['PYTHON', 'NUMPY', 'PANDAS'], dtype='<U6')"
            ]
          },
          "execution_count": 22,
          "metadata": {},
          "output_type": "execute_result"
        }
      ],
      "source": [
        "str_arr_upper=np.char.upper(str_arr)\n",
        "str_arr_upper"
      ]
    },
    {
      "cell_type": "code",
      "execution_count": null,
      "id": "45d728af-22ec-4ce0-be26-ba5d8dcb1f85",
      "metadata": {
        "colab": {
          "base_uri": "https://localhost:8080/"
        },
        "id": "45d728af-22ec-4ce0-be26-ba5d8dcb1f85",
        "outputId": "632fd8d1-e0ea-4e13-8e85-d4b3cb8aa610"
      },
      "outputs": [
        {
          "data": {
            "text/plain": [
              "array(['python', 'numpy', 'pandas'], dtype='<U6')"
            ]
          },
          "execution_count": 23,
          "metadata": {},
          "output_type": "execute_result"
        }
      ],
      "source": [
        "str_arr_lower=np.char.lower(str_arr)\n",
        "str_arr_lower"
      ]
    },
    {
      "cell_type": "code",
      "execution_count": null,
      "id": "166f24b4-9291-45bf-9327-2a10389f1d98",
      "metadata": {
        "colab": {
          "base_uri": "https://localhost:8080/"
        },
        "id": "166f24b4-9291-45bf-9327-2a10389f1d98",
        "outputId": "6bf4af44-e1eb-4c5a-ed6c-8a71f9473e30"
      },
      "outputs": [
        {
          "data": {
            "text/plain": [
              "array(['Python', 'Numpy', 'Pandas'], dtype='<U6')"
            ]
          },
          "execution_count": 24,
          "metadata": {},
          "output_type": "execute_result"
        }
      ],
      "source": [
        "str_arr_title=np.char.title(str_arr)\n",
        "str_arr_title"
      ]
    },
    {
      "cell_type": "markdown",
      "id": "nK-I--w_9lyy",
      "metadata": {
        "id": "nK-I--w_9lyy"
      },
      "source": [
        "### 6). Generate a NumPy array of words. Insert a space between each character of every word in the array."
      ]
    },
    {
      "cell_type": "code",
      "execution_count": null,
      "id": "a1c965af-cf50-4bbf-8359-c2c2bf13c6c6",
      "metadata": {
        "colab": {
          "base_uri": "https://localhost:8080/"
        },
        "id": "a1c965af-cf50-4bbf-8359-c2c2bf13c6c6",
        "outputId": "ef4097fd-04ec-4fdc-f189-c71cfa2cb0fb"
      },
      "outputs": [
        {
          "data": {
            "text/plain": [
              "array(['python', 'numpy', 'pandas'], dtype='<U6')"
            ]
          },
          "execution_count": 26,
          "metadata": {},
          "output_type": "execute_result"
        }
      ],
      "source": [
        "char_array=np.array(['python', 'numpy', 'pandas'])\n",
        "char_array"
      ]
    },
    {
      "cell_type": "code",
      "execution_count": null,
      "id": "uhG5qEXE-KKP",
      "metadata": {
        "colab": {
          "base_uri": "https://localhost:8080/"
        },
        "id": "uhG5qEXE-KKP",
        "outputId": "77bbd804-bdac-4cc0-d2d4-8aadae1a821b"
      },
      "outputs": [
        {
          "data": {
            "text/plain": [
              "array(['p y t h o n', 'n u m p y', 'p a n d a s'], dtype='<U11')"
            ]
          },
          "execution_count": 27,
          "metadata": {},
          "output_type": "execute_result"
        }
      ],
      "source": [
        "np.char.join(' ', char_array)"
      ]
    },
    {
      "cell_type": "code",
      "execution_count": null,
      "id": "SdgNR3ff-at8",
      "metadata": {
        "id": "SdgNR3ff-at8"
      },
      "outputs": [],
      "source": []
    },
    {
      "cell_type": "markdown",
      "id": "Viss17yW-gQA",
      "metadata": {
        "id": "Viss17yW-gQA"
      },
      "source": [
        "### 7). Create two 2D NumPy arrays and perform element-wise addition, subtraction, multiplication, and division."
      ]
    },
    {
      "cell_type": "code",
      "execution_count": null,
      "id": "vR6Z4lQh-rHo",
      "metadata": {
        "id": "vR6Z4lQh-rHo"
      },
      "outputs": [],
      "source": [
        "arr1=np.arange(1,11).reshape(2,5)\n",
        "arr2=np.arange(11,21).reshape(2,5)"
      ]
    },
    {
      "cell_type": "code",
      "execution_count": null,
      "id": "6QoeHtFY_pCe",
      "metadata": {
        "colab": {
          "base_uri": "https://localhost:8080/"
        },
        "id": "6QoeHtFY_pCe",
        "outputId": "c5ef9f24-ed93-4475-f5f4-989503550833"
      },
      "outputs": [
        {
          "data": {
            "text/plain": [
              "array([[ 1,  2,  3,  4,  5],\n",
              "       [ 6,  7,  8,  9, 10]])"
            ]
          },
          "execution_count": 36,
          "metadata": {},
          "output_type": "execute_result"
        }
      ],
      "source": [
        "arr1"
      ]
    },
    {
      "cell_type": "code",
      "execution_count": null,
      "id": "7tKS-lH6_sRa",
      "metadata": {
        "colab": {
          "base_uri": "https://localhost:8080/"
        },
        "id": "7tKS-lH6_sRa",
        "outputId": "9b7a33f2-b32f-450d-edc7-a6f92704326a"
      },
      "outputs": [
        {
          "data": {
            "text/plain": [
              "array([[11, 12, 13, 14, 15],\n",
              "       [16, 17, 18, 19, 20]])"
            ]
          },
          "execution_count": 38,
          "metadata": {},
          "output_type": "execute_result"
        }
      ],
      "source": [
        "arr2"
      ]
    },
    {
      "cell_type": "code",
      "execution_count": null,
      "id": "dgGbRIZd_1xA",
      "metadata": {
        "id": "dgGbRIZd_1xA"
      },
      "outputs": [],
      "source": [
        "arr_add=arr1+arr2\n",
        "arr_sub=arr1-arr2\n",
        "arr_mul=arr1*arr2\n",
        "arr_div=arr2/arr1"
      ]
    },
    {
      "cell_type": "code",
      "execution_count": null,
      "id": "qvIFXjAdAIZh",
      "metadata": {
        "colab": {
          "base_uri": "https://localhost:8080/"
        },
        "id": "qvIFXjAdAIZh",
        "outputId": "dbfcba5d-3a0c-4298-eca9-a4f46bbae101"
      },
      "outputs": [
        {
          "data": {
            "text/plain": [
              "array([[12, 14, 16, 18, 20],\n",
              "       [22, 24, 26, 28, 30]])"
            ]
          },
          "execution_count": 42,
          "metadata": {},
          "output_type": "execute_result"
        }
      ],
      "source": [
        "arr_add"
      ]
    },
    {
      "cell_type": "code",
      "execution_count": null,
      "id": "CJRaBAjtAIoP",
      "metadata": {
        "colab": {
          "base_uri": "https://localhost:8080/"
        },
        "id": "CJRaBAjtAIoP",
        "outputId": "56cee063-e6cb-4229-fd95-25f3bef105b3"
      },
      "outputs": [
        {
          "data": {
            "text/plain": [
              "array([[-10, -10, -10, -10, -10],\n",
              "       [-10, -10, -10, -10, -10]])"
            ]
          },
          "execution_count": 43,
          "metadata": {},
          "output_type": "execute_result"
        }
      ],
      "source": [
        "arr_sub"
      ]
    },
    {
      "cell_type": "code",
      "execution_count": null,
      "id": "vBShbMt7AJPS",
      "metadata": {
        "colab": {
          "base_uri": "https://localhost:8080/"
        },
        "id": "vBShbMt7AJPS",
        "outputId": "dab819a2-3c37-4cd6-c4ca-a350453aae0f"
      },
      "outputs": [
        {
          "data": {
            "text/plain": [
              "array([[ 11,  24,  39,  56,  75],\n",
              "       [ 96, 119, 144, 171, 200]])"
            ]
          },
          "execution_count": 44,
          "metadata": {},
          "output_type": "execute_result"
        }
      ],
      "source": [
        "arr_mul"
      ]
    },
    {
      "cell_type": "code",
      "execution_count": null,
      "id": "7J9lakMZAWwf",
      "metadata": {
        "colab": {
          "base_uri": "https://localhost:8080/"
        },
        "id": "7J9lakMZAWwf",
        "outputId": "29818df4-8d62-468e-acb0-dff80439122b"
      },
      "outputs": [
        {
          "data": {
            "text/plain": [
              "array([[11.        ,  6.        ,  4.33333333,  3.5       ,  3.        ],\n",
              "       [ 2.66666667,  2.42857143,  2.25      ,  2.11111111,  2.        ]])"
            ]
          },
          "execution_count": 47,
          "metadata": {},
          "output_type": "execute_result"
        }
      ],
      "source": [
        "arr_div"
      ]
    },
    {
      "cell_type": "markdown",
      "id": "oPWjx7PoA2U5",
      "metadata": {
        "id": "oPWjx7PoA2U5"
      },
      "source": [
        "### 8) Use NumPy to create a 5x5 identity matrix, then extract its diagonal elements."
      ]
    },
    {
      "cell_type": "code",
      "execution_count": null,
      "id": "Rip2UfyOA1cD",
      "metadata": {
        "id": "Rip2UfyOA1cD"
      },
      "outputs": [],
      "source": [
        "identity_matrix = np.eye(5)"
      ]
    },
    {
      "cell_type": "code",
      "execution_count": null,
      "id": "OqyFMB4HA1mb",
      "metadata": {
        "colab": {
          "base_uri": "https://localhost:8080/"
        },
        "id": "OqyFMB4HA1mb",
        "outputId": "97b2f5b7-0e2a-4975-83a7-7c85edefe66c"
      },
      "outputs": [
        {
          "data": {
            "text/plain": [
              "array([[1., 0., 0., 0., 0.],\n",
              "       [0., 1., 0., 0., 0.],\n",
              "       [0., 0., 1., 0., 0.],\n",
              "       [0., 0., 0., 1., 0.],\n",
              "       [0., 0., 0., 0., 1.]])"
            ]
          },
          "execution_count": 54,
          "metadata": {},
          "output_type": "execute_result"
        }
      ],
      "source": [
        "identity_matrix"
      ]
    },
    {
      "cell_type": "code",
      "execution_count": null,
      "id": "ViuAqb0TBxp0",
      "metadata": {
        "colab": {
          "base_uri": "https://localhost:8080/"
        },
        "id": "ViuAqb0TBxp0",
        "outputId": "766f8794-ae82-45b9-a41e-6d5f4f3501e6"
      },
      "outputs": [
        {
          "data": {
            "text/plain": [
              "array([1., 1., 1., 1., 1.])"
            ]
          },
          "execution_count": 55,
          "metadata": {},
          "output_type": "execute_result"
        }
      ],
      "source": [
        "identity_matrix .diagonal()"
      ]
    },
    {
      "cell_type": "code",
      "execution_count": null,
      "id": "EDgm46ncCBuX",
      "metadata": {
        "colab": {
          "base_uri": "https://localhost:8080/"
        },
        "id": "EDgm46ncCBuX",
        "outputId": "b5e5db0e-a2b1-4a05-beab-eb9026cc091f"
      },
      "outputs": [
        {
          "data": {
            "text/plain": [
              "array([1., 1., 1., 1., 1.])"
            ]
          },
          "execution_count": 57,
          "metadata": {},
          "output_type": "execute_result"
        }
      ],
      "source": [
        "diagonal_elements = np.diag(identity_matrix)\n",
        "diagonal_elements"
      ]
    },
    {
      "cell_type": "markdown",
      "id": "wTKZ6b1KAG3E",
      "metadata": {
        "id": "wTKZ6b1KAG3E"
      },
      "source": [
        "### 9) 9. Generate a NumPy array of 100 random integers between 0 and 1000. Find and display all prime numbers in this array."
      ]
    },
    {
      "cell_type": "code",
      "execution_count": null,
      "id": "lEsvNQ3aDH6k",
      "metadata": {
        "id": "lEsvNQ3aDH6k"
      },
      "outputs": [],
      "source": [
        "arr_1D=np.random.randint(0,1000 ,size=100)"
      ]
    },
    {
      "cell_type": "code",
      "execution_count": null,
      "id": "rJQPayG8D9L5",
      "metadata": {
        "colab": {
          "base_uri": "https://localhost:8080/"
        },
        "id": "rJQPayG8D9L5",
        "outputId": "e498cf64-debe-4d1a-fff1-c5adc6a9e103"
      },
      "outputs": [
        {
          "data": {
            "text/plain": [
              "array([656, 257, 328, 702, 405, 861, 468, 399, 640, 739, 843, 166,  50,\n",
              "       294, 853,  78, 365, 794, 698, 828, 784, 898,  43, 328, 653, 879,\n",
              "       256,  89, 353,  87, 233, 888,  83,  63, 679, 225, 918, 430, 820,\n",
              "       320, 807, 152, 253, 805, 932, 555, 791, 872, 761, 880, 440, 477,\n",
              "       794, 538, 811, 196, 527, 404, 870, 718, 651, 999, 601, 337, 419,\n",
              "       884,  81, 528, 835, 326, 962, 750, 438, 875, 508, 963, 554, 541,\n",
              "       205, 912, 209, 150,  47, 542,  63, 792, 534, 706, 895, 991, 671,\n",
              "       832, 479, 876, 799, 528, 736,  52, 158, 458])"
            ]
          },
          "execution_count": 63,
          "metadata": {},
          "output_type": "execute_result"
        }
      ],
      "source": [
        "arr_1D"
      ]
    },
    {
      "cell_type": "code",
      "execution_count": null,
      "id": "Nvo46STiEAbV",
      "metadata": {
        "colab": {
          "base_uri": "https://localhost:8080/"
        },
        "id": "Nvo46STiEAbV",
        "outputId": "363573a2-3a92-4159-bb9d-959ae745fa0c"
      },
      "outputs": [
        {
          "name": "stdout",
          "output_type": "stream",
          "text": [
            "257\n",
            "405\n",
            "861\n",
            "399\n",
            "739\n",
            "843\n",
            "853\n",
            "365\n",
            "43\n",
            "653\n",
            "879\n",
            "89\n",
            "353\n",
            "87\n",
            "233\n",
            "83\n",
            "63\n",
            "679\n",
            "225\n",
            "807\n",
            "253\n",
            "805\n",
            "555\n",
            "791\n",
            "761\n",
            "477\n",
            "811\n",
            "527\n",
            "651\n",
            "999\n",
            "601\n",
            "337\n",
            "419\n",
            "81\n",
            "835\n",
            "875\n",
            "963\n",
            "541\n",
            "205\n",
            "209\n",
            "47\n",
            "63\n",
            "895\n",
            "991\n",
            "671\n",
            "479\n",
            "799\n"
          ]
        }
      ],
      "source": [
        "for i in arr_1D:\n",
        "  if i%2==0:\n",
        "    continue\n",
        "  else:\n",
        "    print(i)"
      ]
    },
    {
      "cell_type": "markdown",
      "id": "QAytwUVUF2L2",
      "metadata": {
        "id": "QAytwUVUF2L2"
      },
      "source": [
        "### 10)  Create a NumPy array representing daily temperatures for a month. Calculate and display the weekly averages."
      ]
    },
    {
      "cell_type": "code",
      "execution_count": null,
      "id": "8cLRUd7zF6uo",
      "metadata": {
        "colab": {
          "base_uri": "https://localhost:8080/"
        },
        "id": "8cLRUd7zF6uo",
        "outputId": "b8408fbd-9e76-41bc-ea43-d0e1daf936ce"
      },
      "outputs": [
        {
          "name": "stdout",
          "output_type": "stream",
          "text": [
            "Daily Temperatures:\n",
            " [31.1384336  31.63894677 23.1951493  20.30057231 27.07746834 23.84043317\n",
            " 20.49688785 23.46218073 31.38813967 19.08680167 22.96201776 26.7947347\n",
            " 33.15284694 33.35745659 18.8108851  23.7684492  30.90289356 30.73950096\n",
            " 22.95613832 29.97162939 21.29698085 26.76535791 19.29297512 22.90207893\n",
            " 25.28275724 17.06507297 34.08700261 32.10452316 21.7514375  33.17094903]\n",
            "\n",
            "Weekly Temperatures:\n",
            " [[31.1384336  31.63894677 23.1951493  20.30057231 27.07746834 23.84043317]\n",
            " [20.49688785 23.46218073 31.38813967 19.08680167 22.96201776 26.7947347 ]\n",
            " [33.15284694 33.35745659 18.8108851  23.7684492  30.90289356 30.73950096]\n",
            " [22.95613832 29.97162939 21.29698085 26.76535791 19.29297512 22.90207893]\n",
            " [25.28275724 17.06507297 34.08700261 32.10452316 21.7514375  33.17094903]]\n",
            "\n",
            "Weekly Averages:\n",
            " [26.19850058 24.03179373 28.45533873 23.86419342 27.24362375]\n"
          ]
        }
      ],
      "source": [
        "daily_temperatures = np.random.uniform(15, 35, 30)\n",
        "\n",
        "# Reshape the array into weeks (5 weeks, 6 days each week)\n",
        "weekly_temperatures = daily_temperatures.reshape(5, 6)\n",
        "\n",
        "# Calculate the average temperature for each week\n",
        "weekly_averages = weekly_temperatures.mean(axis=1)\n",
        "\n",
        "print(\"Daily Temperatures:\\n\", daily_temperatures)\n",
        "print(\"\\nWeekly Temperatures:\\n\", weekly_temperatures)\n",
        "print(\"\\nWeekly Averages:\\n\", weekly_averages)"
      ]
    },
    {
      "cell_type": "code",
      "execution_count": null,
      "id": "3az03BEaAEt8",
      "metadata": {
        "id": "3az03BEaAEt8"
      },
      "outputs": [],
      "source": []
    }
  ],
  "metadata": {
    "colab": {
      "provenance": [],
      "toc_visible": true,
      "include_colab_link": true
    },
    "kernelspec": {
      "display_name": "Python 3 (ipykernel)",
      "language": "python",
      "name": "python3"
    },
    "language_info": {
      "codemirror_mode": {
        "name": "ipython",
        "version": 3
      },
      "file_extension": ".py",
      "mimetype": "text/x-python",
      "name": "python",
      "nbconvert_exporter": "python",
      "pygments_lexer": "ipython3",
      "version": "3.11.7"
    }
  },
  "nbformat": 4,
  "nbformat_minor": 5
}